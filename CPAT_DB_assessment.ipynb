{
 "cells": [
  {
   "cell_type": "markdown",
   "id": "b1c79977-82d2-46aa-8e2b-a5a4b6c2f089",
   "metadata": {},
   "source": [
    "## Oracle Database migration steps \n",
    "### looking under the hood of Database Migration Cloud Service and Zero Downtime Migration Toolset\n",
    "* install java, oracle driver, CPAT\n",
    "* run CPAT analysis tool\n",
    "* initial data load into Autonomous Database\n",
    "* setup GoldenGate sync via REST API"
   ]
  },
  {
   "cell_type": "markdown",
   "id": "e30f5840-b955-414a-a3c8-77d746ef8dfb",
   "metadata": {},
   "source": [
    "### Install java, oracle driver, CPAT"
   ]
  },
  {
   "cell_type": "code",
   "execution_count": null,
   "id": "8b9f5c65-af5a-487a-8166-2a0db13a27c9",
   "metadata": {
    "scrolled": true
   },
   "outputs": [],
   "source": [
    "!pip install oracledb install-jdk"
   ]
  },
  {
   "cell_type": "code",
   "execution_count": 19,
   "id": "0d51d466-6d21-4d92-9bf2-8032d7aa2bfc",
   "metadata": {},
   "outputs": [],
   "source": [
    "import jdk\n",
    "import os\n",
    "from jdk.enums import OperatingSystem, Architecture\n",
    "javapath = jdk.install('17', operating_system=OperatingSystem.LINUX)\n",
    "os.environ['JAVA_HOME'] = javapath\n",
    "os.environ['PATH'] = f\"{os.environ.get('PATH')}:{os.environ.get('JAVA_HOME')}/bin\""
   ]
  },
  {
   "cell_type": "code",
   "execution_count": 3,
   "id": "c151aa44-3094-4b18-8e50-76ac7d8911bf",
   "metadata": {
    "scrolled": true
   },
   "outputs": [
    {
     "name": "stdout",
     "output_type": "stream",
     "text": [
      "openjdk version \"17.0.16\" 2025-07-15\n",
      "OpenJDK Runtime Environment Temurin-17.0.16+8 (build 17.0.16+8)\n",
      "OpenJDK 64-Bit Server VM Temurin-17.0.16+8 (build 17.0.16+8, mixed mode, sharing)\n",
      "fatal: destination path 'gg_microhacks_scripts' already exists and is not an empty directory.\n",
      "Archive:  gg_microhacks_scripts/p32613591_112048_Generic.zip\n",
      "  inflating: README.txt              \n",
      "  inflating: LICENSE.txt             \n",
      "  inflating: THIRD_PARTY_LICENSES.txt  \n",
      "  inflating: bin/cma.cmd             \n",
      "  inflating: bin/cma.sh              \n",
      "  inflating: bin/premigration.ps1    \n",
      "  inflating: premigration.cmd        \n",
      "  inflating: premigration.sh         \n",
      "  inflating: lib/premigration.jar    \n",
      "  inflating: lib/ojdbc8-19.3.0.0.jar  \n",
      "  inflating: lib/ucp-19.3.0.0.jar    \n",
      "  inflating: lib/oraclepki-19.3.0.0.jar  \n",
      "  inflating: lib/oraclepki-23.5.0.24.07.jar  \n",
      "  inflating: lib/osdt_core-19.3.0.0.jar  \n",
      "  inflating: lib/osdt_cert-19.3.0.0.jar  \n",
      "  inflating: lib/orai18n-19.3.0.0.jar  \n",
      "  inflating: lib/ons-19.3.0.0.jar    \n",
      "  inflating: lib/simplefan-19.3.0.0.jar  \n",
      "  inflating: lib/commons-cli-1.9.0.jar  \n",
      "  inflating: misc/CPATReportSchema.json  \n"
     ]
    }
   ],
   "source": [
    "!java -version\n",
    "!git clone https://github.com/ilfur/gg_microhacks_scripts\n",
    "!unzip -o gg_microhacks_scripts/p32613591_112048_Generic.zip"
   ]
  },
  {
   "cell_type": "markdown",
   "id": "8174f176-566f-483c-92ed-6c5fb561efaf",
   "metadata": {},
   "source": [
    "## Run CPAT analysis Tool"
   ]
  },
  {
   "cell_type": "code",
   "execution_count": 20,
   "id": "2bae2258-64eb-4471-8818-64eb423183b6",
   "metadata": {},
   "outputs": [
    {
     "name": "stdout",
     "output_type": "stream",
     "text": [
      "Enter password for system user: \n",
      "Cloud Premigration Advisor Tool Version 25.6.0\n",
      "CPAT-1013: Informational: No analysis properties file found on the command line. Source analysis will not be as complete as possible.\n",
      "See the help text for information on using an analysis properties file.\n",
      "\n",
      "CPAT-4008: Warning: CPAT has detected the database being analyzed is not Oracle Enterprise Edition. The instance is not fully supported by CPAT and results are on a 'best effort' basis. Some validation checks may not work properly, and extra care must be assumed by the user when interpreting results.\n",
      "Please run CPAT in an Oracle Enterprise Edition.\n",
      "\n",
      "Cloud Premigration Advisor Tool completed with overall result: Review Required\n",
      "Cloud Premigration Advisor Tool generated report location: /home/jovyan/work/03_jupyter/migration/premigration_advisor_report.html\n",
      "Cloud Premigration Advisor Tool generated report location: /home/jovyan/work/03_jupyter/migration/premigration_advisor_report.txt\n"
     ]
    }
   ],
   "source": [
    "!. gg_microhacks_scripts/premigration_no_pwd.sh"
   ]
  },
  {
   "cell_type": "markdown",
   "id": "a96a41ab-ce01-46a0-a6ea-9281a55248ee",
   "metadata": {},
   "source": [
    "## Display analysis results"
   ]
  },
  {
   "cell_type": "code",
   "execution_count": 22,
   "id": "49b8faf1-90cf-4c61-a1df-b2661b77c7ff",
   "metadata": {},
   "outputs": [
    {
     "data": {
      "text/html": [
       "\n",
       "        <iframe\n",
       "            width=\"1100\"\n",
       "            height=\"600\"\n",
       "            src=\"migration/premigration_advisor_report.html\"\n",
       "            frameborder=\"0\"\n",
       "            allowfullscreen\n",
       "            \n",
       "        ></iframe>\n",
       "        "
      ],
      "text/plain": [
       "<IPython.lib.display.IFrame at 0x7ff3bd43c6d0>"
      ]
     },
     "execution_count": 22,
     "metadata": {},
     "output_type": "execute_result"
    }
   ],
   "source": [
    "from IPython.display import IFrame\n",
    "IFrame(\"migration/premigration_advisor_report.html\", width=1100, height=600)\n"
   ]
  },
  {
   "cell_type": "markdown",
   "id": "58ae7bff-5375-4201-85ec-2c79c6620658",
   "metadata": {},
   "source": [
    "## Load to-be-migrated schema into Autonomous Database\n",
    "* Using datapump inside the target database (ADB) from an object store location. \n",
    "* The dump has been created with flashback_scn parameter\n",
    "* The current SCN (system change number) of the source database has been taken with SELECT CURRENT_SCN FROM V$DATABASE;\n",
    "* Goldengate will then start applying data beginning with that SCN.\n",
    "\n",
    "No need to execute the following code - this has already been done for You. Just for documentation purposes.\n"
   ]
  },
  {
   "cell_type": "raw",
   "id": "d1306e12-c980-446c-850d-da2b4ed562fb",
   "metadata": {},
   "source": [
    "BEGIN\n",
    "  DBMS_CLOUD.CREATE_CREDENTIAL(\n",
    "    credential_name => 'LOAD_CREDENTIAL',\n",
    "    username => 'username@cloud',\n",
    "    password => 'some-complex-token'  );\n",
    "END;\n",
    "/\n",
    "\n",
    "DECLARE\n",
    "    exported_schema VARCHAR2(64)  := '$SRC_SCHEMA';\n",
    "    import_schema   VARCHAR2(64)  := '$TRG_SCHEMA'; \n",
    "    data_pump_dir   VARCHAR2(64)  := 'DATA_PUMP_DIR';\n",
    "    dump_file_name  VARCHAR2(256) := 'https://objectstorage.eu-frankfurt-1.oraclecloud.com/p/peq5JVouDUrhcYFEzQ8GCznr4PBcuQzgCG1a9NBnLeip6Z9qiD6x77bdfnO0e0er/n/frul1g8cgfam/b/hr-sh-sample-data/o/sh.dmp';\n",
    "    credential_name VARCHAR2(64)  := 'LOAD_CREDENTIAL';\n",
    "    parallel        NUMBER        := 4;\n",
    " \n",
    "    job_handle      NUMBER;\n",
    "    job_name        VARCHAR2(64);\n",
    "    job_status      VARCHAR2(128);\n",
    "    output_message  VARCHAR2(1024);\n",
    "BEGIN\n",
    "    job_name := dbms_scheduler.generate_job_name('import_');\n",
    "    job_handle := dbms_datapump.open(operation => 'IMPORT', job_mode => 'SCHEMA', job_name => job_name); \n",
    "    dbms_datapump.add_file(handle => job_handle, filename => dump_file_name, directory => credential_name, filetype => dbms_datapump.ku\\$_file_type_uridump_file); \n",
    "    dbms_datapump.add_file(handle => job_handle, filename => import_schema || '_import.log', directory => data_pump_dir, filetype => 3);\n",
    "    dbms_datapump.metadata_remap(job_handle, 'REMAP_SCHEMA', exported_schema, import_schema);\n",
    "    dbms_datapump.metadata_filter(handle => job_handle, name => 'SCHEMA_EXPR', value => 'IN(''' || exported_schema || ''')');\n",
    "    dbms_datapump.set_parallel(handle => job_handle, degree => parallel);\n",
    "    dbms_datapump.start_job(handle => job_handle, skip_current => 0, abort_step => 0); \n",
    "    dbms_datapump.wait_for_job(handle => job_handle, job_state => job_status);\n",
    "    output_message := 'Data Pump Import Execution: ''' || job_status || '''';\n",
    "    dbms_output.put_line(output_message);\n",
    "END;"
   ]
  },
  {
   "cell_type": "markdown",
   "id": "2a905f82-08d6-46bb-bd72-b2f884009d03",
   "metadata": {},
   "source": [
    "## Setup GoldenGate bidirectional sync between source and target databases\n",
    "Some REST calls to configure GoldenGate\n",
    "* save credentials to connect to target and source\n",
    "* define extracts for target and source systems\n",
    "* define replicats (data apply) for source and target systems cross-wise\n",
    "\n",
    "Again, no need to run this code since this has already been done for you !"
   ]
  },
  {
   "cell_type": "code",
   "execution_count": null,
   "id": "ea18d182-1d41-4849-a663-1e271c5c5aeb",
   "metadata": {},
   "outputs": [],
   "source": []
  }
 ],
 "metadata": {
  "kernelspec": {
   "display_name": "Python 3 (ipykernel)",
   "language": "python",
   "name": "python3"
  },
  "language_info": {
   "codemirror_mode": {
    "name": "ipython",
    "version": 3
   },
   "file_extension": ".py",
   "mimetype": "text/x-python",
   "name": "python",
   "nbconvert_exporter": "python",
   "pygments_lexer": "ipython3",
   "version": "3.11.9"
  }
 },
 "nbformat": 4,
 "nbformat_minor": 5
}
